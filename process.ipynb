{
 "cells": [
  {
   "cell_type": "code",
   "execution_count": null,
   "metadata": {},
   "outputs": [],
   "source": [
    "import os\n",
    "import json\n",
    "import jsonlines\n",
    "\n",
    "import torch\n",
    "import ctypes\n",
    "import gc\n",
    "import random"
   ]
  },
  {
   "cell_type": "code",
   "execution_count": null,
   "metadata": {},
   "outputs": [],
   "source": [
    "def clean_memory():\n",
    "    gc.collect()\n",
    "    ctypes.CDLL(\"libc.so.6\").malloc_trim(0)\n",
    "    torch.cuda.empty_cache()\n",
    "clean_memory()"
   ]
  },
  {
   "cell_type": "code",
   "execution_count": null,
   "metadata": {},
   "outputs": [],
   "source": [
    "# metadata\n",
    "# EN\n",
    "# len: 4459532\n",
    "# key per line: dict_keys(['meta', 'text', 'input', 'output', 'instruction'])\n",
    "# 'meta' key: dict_keys(['Dataset', 'Gen', 'IFT', 'Lang', 'CFT-MR', 'CFT-P', 'CFT-SR', 'Task', 'original_path'])"
   ]
  },
  {
   "cell_type": "code",
   "execution_count": null,
   "metadata": {},
   "outputs": [],
   "source": [
    "# {'ShareGPT', 'belle_cn', 'instinwild', 'Chinese-medical', 'alpacaGPT4', 'COIG', 'HC3', 'MOSS'}"
   ]
  },
  {
   "cell_type": "code",
   "execution_count": null,
   "metadata": {},
   "outputs": [],
   "source": [
    "import jsonlines\n",
    "\n",
    "data_stat_path = \"/home/chenxiaojia/data/competition/competition_kit/data-juicer/outputs/v6_text/en_processed_stats.jsonl\"\n",
    "data_path = \"/home/xiejunlin/workspace/Tianchi_FT-Data_Ranker/checkpoints/run/run_keep_long_token_perplexity_refine_v6_en_2023-11-06-01-30-32/data/training_dataset.jsonl\"\n",
    "output = \"/home/xiejunlin/workspace/Tianchi_FT-Data_Ranker/checkpoints/run/run_keep_long_token_perplexity_refine_v6_en_2023-11-06-01-30-32/data/flitered_training_dataset.jsonl\"\n",
    "\n",
    "cnt = 0\n",
    "new_data_writer = jsonlines.open(output, 'w')\n",
    "\n",
    "with jsonlines.open(data_stat_path) as file1, jsonlines.open(data_path) as file2:\n",
    "    for data1, data2 in zip(file1, file2):\n",
    "        # process data from both files here\n",
    "        data1 = data1[\"__dj__stats__\"]\n",
    "        if data1[\"flagged_words_ratio\"] <= 0.017:\n",
    "            # print(data1[\"flagged_words_ratio\"])\n",
    "            # print(data2)\n",
    "            # print(\"\")\n",
    "            cnt += 1\n",
    "            new_data_writer.write(data2)\n",
    "\n",
    "new_data_writer.close()"
   ]
  },
  {
   "cell_type": "code",
   "execution_count": 18,
   "metadata": {},
   "outputs": [],
   "source": [
    "import json\n",
    "import jsonlines\n",
    "\n",
    "# data_path = \"/home/xiejunlin/workspace/Tianchi_FT-Data_Ranker/checkpoints/run/run_all_3sigma_v2_en_2023-11-10-10-38-23/data/en/datasets_en.jsonl\"\n",
    "# data_path = \"/home/xiejunlin/workspace/Tianchi_FT-Data_Ranker/checkpoints/run/run_all_3sigma_v2_en_2023-11-10-10-38-23/data/en/datasets_en.jsonl\"\n",
    "data_path = \"/home/xiejunlin/workspace/Tianchi_FT-Data_Ranker/data/raw_data/raw_data_en.jsonl\"\n",
    "# data_path = \"checkpoints/run/run_deduplication_v3_en_2023-11-29-11-16-15/data/en/datasets_en.jsonl\"\n",
    "\n",
    "dataset_type = {}\n",
    "task_type = {}\n",
    "reader = jsonlines.open(data_path, 'r')\n",
    "\n",
    "# new_r = jsonlines.open(\"/home/xiejunlin/workspace/Tianchi_FT-Data_Ranker/data/debug_dj/debug_1k\", 'w')\n",
    "\n",
    "# cnt = 0\n",
    "# for line in reader:\n",
    "#     if cnt <= 1000:\n",
    "#         new_r.write(line)\n",
    "#         cnt += 1\n",
    "# new_r.close()\n",
    "for line in reader:\n",
    "    ds_type = line['meta']['Dataset']\n",
    "    tsk_type = line['meta']['Task']\n",
    "    if dataset_type.get(ds_type, \"COIG\") == \"COIG\":\n",
    "        dataset_type[ds_type] = []\n",
    "        task_type[tsk_type] = []\n",
    "    dataset_type[ds_type].append(line)\n"
   ]
  },
  {
   "cell_type": "code",
   "execution_count": 29,
   "metadata": {},
   "outputs": [],
   "source": [
    "dataset_type = {'COIG': []}\n",
    "data_path = \"/home/xiejunlin/workspace/Tianchi_FT-Data_Ranker/data/raw_data/raw_data_en.jsonl\"\n",
    "reader = jsonlines.open(data_path, 'r')\n",
    "with jsonlines.open(\"data/splits/COIG_raw.jsonl\", 'w') as writer:\n",
    "    for line in reader:\n",
    "        ds_type = line['meta']['Dataset']\n",
    "        if ds_type == \"COIG\":\n",
    "            writer.write(line)\n"
   ]
  },
  {
   "cell_type": "code",
   "execution_count": 28,
   "metadata": {},
   "outputs": [
    {
     "data": {
      "text/plain": [
       "dict_keys(['COIG'])"
      ]
     },
     "execution_count": 28,
     "metadata": {},
     "output_type": "execute_result"
    }
   ],
   "source": [
    "dataset_type.keys()"
   ]
  },
  {
   "cell_type": "code",
   "execution_count": 25,
   "metadata": {},
   "outputs": [
    {
     "name": "stdout",
     "output_type": "stream",
     "text": [
      "dict_keys(['HC3', 'ConvAI2', 'instinwild', 'alpacaGPT4', 'ShareGPT', 'finance', 'dolly', 'instruct', 'prosocial-dialog', 'GPTeacher', 'GPT4all', 'FastChat', 'COIG', 'MOSS', 'alpaca'])\n"
     ]
    }
   ],
   "source": [
    "print(dataset_type.keys())\n",
    "\n",
    "for k, v in dataset_type.items():\n",
    "    writer = jsonlines.open(f\"data/splits/{k}.jsonl\", 'a')\n",
    "    for line in v:\n",
    "        writer.write(line)\n",
    "    writer.close()"
   ]
  },
  {
   "cell_type": "code",
   "execution_count": 1,
   "metadata": {},
   "outputs": [
    {
     "name": "stderr",
     "output_type": "stream",
     "text": [
      "/home/xiejunlin/miniconda3/envs/dj_comp/lib/python3.10/site-packages/tqdm/auto.py:21: TqdmWarning: IProgress not found. Please update jupyter and ipywidgets. See https://ipywidgets.readthedocs.io/en/stable/user_install.html\n",
      "  from .autonotebook import tqdm as notebook_tqdm\n"
     ]
    },
    {
     "name": "stdout",
     "output_type": "stream",
     "text": [
      "Downloading and preparing dataset json/default to /home/xiejunlin/data1/huggingface/datasets/json/default-92e4c3935bf644d7/0.0.0/fe5dd6ea2639a6df622901539cb550cf8797e5a6b2dd7af1cf934bed8e233e6e...\n"
     ]
    },
    {
     "name": "stderr",
     "output_type": "stream",
     "text": [
      "Downloading data files: 100%|██████████| 1/1 [00:00<00:00, 4963.67it/s]\n",
      "Extracting data files: 100%|██████████| 1/1 [00:00<00:00, 805.20it/s]\n",
      "                                                                   \r"
     ]
    },
    {
     "name": "stdout",
     "output_type": "stream",
     "text": [
      "Dataset json downloaded and prepared to /home/xiejunlin/data1/huggingface/datasets/json/default-92e4c3935bf644d7/0.0.0/fe5dd6ea2639a6df622901539cb550cf8797e5a6b2dd7af1cf934bed8e233e6e. Subsequent calls will reuse this data.\n"
     ]
    },
    {
     "name": "stderr",
     "output_type": "stream",
     "text": [
      "100%|██████████| 1/1 [00:00<00:00, 211.44it/s]\n"
     ]
    },
    {
     "name": "stdout",
     "output_type": "stream",
     "text": [
      "Downloading and preparing dataset json/default to /home/xiejunlin/data1/huggingface/datasets/json/default-31f4fb07d1c79dc4/0.0.0/fe5dd6ea2639a6df622901539cb550cf8797e5a6b2dd7af1cf934bed8e233e6e...\n"
     ]
    },
    {
     "name": "stderr",
     "output_type": "stream",
     "text": [
      "Downloading data files: 100%|██████████| 1/1 [00:00<00:00, 2664.74it/s]\n",
      "Extracting data files: 100%|██████████| 1/1 [00:00<00:00, 340.56it/s]\n",
      "                                                                   \r"
     ]
    },
    {
     "name": "stdout",
     "output_type": "stream",
     "text": [
      "Dataset json downloaded and prepared to /home/xiejunlin/data1/huggingface/datasets/json/default-31f4fb07d1c79dc4/0.0.0/fe5dd6ea2639a6df622901539cb550cf8797e5a6b2dd7af1cf934bed8e233e6e. Subsequent calls will reuse this data.\n"
     ]
    },
    {
     "name": "stderr",
     "output_type": "stream",
     "text": [
      "100%|██████████| 1/1 [00:00<00:00, 308.52it/s]\n"
     ]
    },
    {
     "name": "stdout",
     "output_type": "stream",
     "text": [
      "Downloading and preparing dataset json/default to /home/xiejunlin/data1/huggingface/datasets/json/default-70da59bf42dd37f8/0.0.0/fe5dd6ea2639a6df622901539cb550cf8797e5a6b2dd7af1cf934bed8e233e6e...\n"
     ]
    },
    {
     "name": "stderr",
     "output_type": "stream",
     "text": [
      "Downloading data files: 100%|██████████| 1/1 [00:00<00:00, 1285.41it/s]\n",
      "Extracting data files: 100%|██████████| 1/1 [00:00<00:00, 580.04it/s]\n",
      "                                                        \r"
     ]
    },
    {
     "name": "stdout",
     "output_type": "stream",
     "text": [
      "Dataset json downloaded and prepared to /home/xiejunlin/data1/huggingface/datasets/json/default-70da59bf42dd37f8/0.0.0/fe5dd6ea2639a6df622901539cb550cf8797e5a6b2dd7af1cf934bed8e233e6e. Subsequent calls will reuse this data.\n"
     ]
    },
    {
     "name": "stderr",
     "output_type": "stream",
     "text": [
      "100%|██████████| 1/1 [00:00<00:00, 223.07it/s]\n"
     ]
    }
   ],
   "source": [
    "from datasets import load_dataset\n",
    "\n",
    "sharegpt = load_dataset('json', data_files='data/splits/ShareGPT.jsonl')\n",
    "instruct = load_dataset('json', data_files='data/splits/instruct.jsonl')\n",
    "gpteacher = load_dataset('json', data_files='data/splits/GPTeacher.jsonl')"
   ]
  },
  {
   "cell_type": "code",
   "execution_count": 17,
   "metadata": {},
   "outputs": [],
   "source": [
    "import os\n",
    "import jsonlines\n",
    "\n",
    "data_path = \"data/splits\"\n",
    "\n",
    "root, dirs, files = next(os.walk(data_path))\n",
    "\n",
    "tasks = {\"summ\": [\"MOSS\", \"instinwild\", \"GPTeacher\", \"alpacaGPT4\"], \"programming\": [\"instruct\", \"GPT4all\"], \"qa\": [\"finance\", \"HC3\", \"dolly\"], \"select\": [\"COIG\"], \"cosplay\": [\"ConvAI2\"]}\n",
    "# tasks = {\"summ\": [\"MOSS\", \"instinwild\", \"GPTeacher\", \"alpacaGPT4\"], \"qa\": [\"finance\", \"HC3\", \"dolly\"]}\n",
    "\n",
    "for k, dataset_list in tasks.items():\n",
    "    with jsonlines.open(os.path.join(\"data/splits/tasks\", k + '.jsonl'), 'w') as writer:\n",
    "        for dataset in dataset_list:\n",
    "            path = os.path.join(data_path, dataset + '.jsonl')\n",
    "            reader = jsonlines.open(path, 'r')\n",
    "            for line in reader:\n",
    "                writer.write(line)\n"
   ]
  },
  {
   "cell_type": "code",
   "execution_count": 1,
   "metadata": {},
   "outputs": [
    {
     "name": "stderr",
     "output_type": "stream",
     "text": [
      "  0%|          | 0/6 [00:00<?, ?it/s]"
     ]
    },
    {
     "name": "stderr",
     "output_type": "stream",
     "text": [
      "100%|██████████| 6/6 [00:04<00:00,  1.41it/s]\n"
     ]
    }
   ],
   "source": [
    "import os\n",
    "import jsonlines\n",
    "from tqdm import tqdm\n",
    "\n",
    "data_path = \"data/splits/tasks\"\n",
    "\n",
    "root, dirs, files = next(os.walk(data_path))\n",
    "\n",
    "for file in tqdm(files):\n",
    "    name = file.split(\".\")[0]\n",
    "    reader = jsonlines.open(os.path.join(data_path, file), 'r')\n",
    "    with jsonlines.open(os.path.join(\"data/splits/tasks_format\", name + '.jsonl'), 'w') as writer:\n",
    "        for line in reader:\n",
    "            _ = line.pop('__dj__hash')\n",
    "            _ = line.pop('__dj__stats__')\n",
    "            _ = line.pop('__dj__simhash')\n",
    "            # print(line.keys())\n",
    "            writer.write(line)\n",
    "\n"
   ]
  },
  {
   "cell_type": "code",
   "execution_count": null,
   "metadata": {},
   "outputs": [],
   "source": []
  },
  {
   "cell_type": "markdown",
   "metadata": {},
   "source": [
    "## LLM for evaluation data quality"
   ]
  },
  {
   "cell_type": "code",
   "execution_count": null,
   "metadata": {},
   "outputs": [],
   "source": [
    "# ernie\n",
    "import erniebot\n",
    "\n",
    "erniebot.api_type = 'aistudio'\n",
    "erniebot.access_token = 'a335b39380dbc8aaaec76f78725d1dc867cf2d27'\n",
    "\n",
    "models = erniebot.Model.list()\n",
    "print(models)\n",
    "\n"
   ]
  },
  {
   "cell_type": "code",
   "execution_count": null,
   "metadata": {},
   "outputs": [],
   "source": [
    "test_text = \"We would like to request your feedback on the performance of AI assistant in response to the instruction and the given input displayed following.\\nInstruction: [where did all the money that was lost in the sub prime mortgage crisis and subsequent global recession actually go ? Money does n't simply disappear so if people lost money then it must have gone somewhere . Where ? Explain like I'm five.]\\nInput: []\\nResponse: [The subprime mortgage crisis was a financial crisis that occurred in the late 2000s as a result of the collapse of the housing market. Many people had taken out mortgages to buy homes, but when the housing market crashed, the value of their homes decreased and they were no longer able to make their mortgage payments. This led to a wave of foreclosures, which is when the bank takes back a home because the owner can't make the payments. As a result, many banks and financial institutions lost a lot of money because they had invested in these mortgages and were now unable to recoup their investments. This caused a financial crisis, as the banks and financial institutions that had lost money were no longer able to lend money to other people or businesses. The money that was lost during the financial crisis did not simply disappear. Instead, it was lost by the banks and financial institutions that had invested in the subprime mortgages and were unable to recoup their investments when the housing market crashed. This loss of money had a ripple effect, as the banks and financial institutions were then unable to lend money to other people or businesses, which slowed down the economy and led to a global recession.]\\nPlease rate according to the accuracy of the response to the instruction and the input. Each assistant receives a score on a scale of 0 to 5, where a higher score indicates higher level of the helpfulness. Please first output a single line containing the value indicating the scores.\"\n",
    "num_tokens = erniebot.utils.token_helper.approx_num_tokens(test_text)\n",
    "num_tokens"
   ]
  },
  {
   "cell_type": "code",
   "execution_count": null,
   "metadata": {},
   "outputs": [],
   "source": [
    "response = erniebot.ChatCompletion.create(\n",
    "    model='ernie-bot',\n",
    "    messages=[{'role': 'user', 'content': test_text,\n",
    "    }],\n",
    ")"
   ]
  },
  {
   "cell_type": "code",
   "execution_count": null,
   "metadata": {},
   "outputs": [],
   "source": [
    "response.result"
   ]
  },
  {
   "cell_type": "markdown",
   "metadata": {},
   "source": [
    "## Falcon-1B test"
   ]
  },
  {
   "cell_type": "code",
   "execution_count": null,
   "metadata": {},
   "outputs": [],
   "source": [
    "from transformers import AutoTokenizer, AutoModelForCausalLM\n",
    "\n",
    "model_path = \"/home/xiejunlin/workspace/Tianchi_FT-Data_Ranker/checkpoints/run/run_all_3sigma_v4_en_2023-11-11-17-37-38\"\n",
    "tokenizer = AutoTokenizer.from_pretrained(model_path)\n",
    "model = AutoModelForCausalLM.from_pretrained(model_path).cuda()\n",
    "model = model.eval()\n"
   ]
  },
  {
   "cell_type": "code",
   "execution_count": null,
   "metadata": {},
   "outputs": [],
   "source": [
    "text = \"model = tf.keras.Sequential([\\n layers.Embedding(num\\\\_words, embedding\\\\_dim, embeddings\\\\_initializer=tf.keras.initializers.Constant(embedding\\\\_matrix),\\n input\\\\_length=max\\\\_length, trainable=False),\\n layers.Conv1D(128, 5, activation='relu'),\\n layers.MaxPooling1D(pool\\\\_size=4),\\n layers.Flatten(),\\n layers.Dense(1, activation='sigmoid')\\n])\\n\\nwe have used this model with glove embedding to perform classification..can you explain the model and what each layer of the model does...our accuracy is 84 right now so how do we improve the accuracy by enhancing the model\"\n",
    "gen_kwargs = {\"max_length\": 1024, \"top_p\": 0.8, \"temperature\": 0.8, \"repetition_penalty\": 1.1, \"do_sample\": True}\n",
    "inp_text = tokenizer([text], return_tensors=\"pt\").input_ids.cuda()\n",
    "\n",
    "output = model.generate(inp_text, **gen_kwargs)\n",
    "output_decoded = tokenizer.decode(output[0], skip_special_tokens=True)\n",
    "output_decoded"
   ]
  },
  {
   "cell_type": "markdown",
   "metadata": {},
   "source": [
    "## Statistic Data"
   ]
  },
  {
   "cell_type": "code",
   "execution_count": null,
   "metadata": {},
   "outputs": [],
   "source": [
    "stats_path = \"/home/xiejunlin/workspace/Tianchi_FT-Data_Ranker/checkpoints/run/run_all_3sigma_v9_from_v4_en_2023-11-18-15-00-17/data/en/datasets_en_stats.jsonl\"\n",
    "data_path = \"/home/xiejunlin/workspace/Tianchi_FT-Data_Ranker/checkpoints/run/run_all_3sigma_v9_from_v4_en_2023-11-18-15-00-17/data/en/datasets_en.jsonl\"\n",
    "stat_reader = jsonlines.open(stats_path, 'r')\n",
    "data_reader = jsonlines.open(data_path, 'r')\n",
    "\n",
    "for stat, data in zip(stat_reader, data_reader):\n",
    "    print(data)\n",
    "    print(stat)\n",
    "    break\n",
    "    "
   ]
  },
  {
   "cell_type": "code",
   "execution_count": null,
   "metadata": {},
   "outputs": [],
   "source": [
    "data_path = \"data/raw_data/raw_data_en.jsonl\"\n",
    "data_reader = jsonlines.open(data_path, 'r')\n",
    "dataset_type = {}\n",
    "\n",
    "for idx, line in enumerate(data_reader):\n",
    "    ds_type = line['meta']['Dataset']\n",
    "    tsk_type = line['meta']['Task']\n",
    "    if dataset_type.get(ds_type, -1) == -1:\n",
    "        dataset_type[ds_type] = 0\n",
    "    dataset_type[ds_type] += 1\n"
   ]
  },
  {
   "cell_type": "markdown",
   "metadata": {},
   "source": [
    "## Kmeans"
   ]
  },
  {
   "cell_type": "markdown",
   "metadata": {},
   "source": []
  },
  {
   "cell_type": "markdown",
   "metadata": {},
   "source": [
    "## Dev"
   ]
  },
  {
   "cell_type": "code",
   "execution_count": null,
   "metadata": {},
   "outputs": [],
   "source": [
    "import os, glob\n",
    "import json\n",
    "\n",
    "# dev_name = \"run_all_3sigma_v4_en_2023-11-11-17-37-38\"\n",
    "# dev_name = \"run_unieval_dialog_from_v13_2_gt_0_8_en_2023-11-25-16-08-40\"\n",
    "# dev_name = \"run_unieval_dialog_from_v4_gt_0_7_en_2023-11-23-16-42-45\"\n",
    "# dev_name = \"run_all_sigma_v13_3_en_2023-11-25-16-59-23\"\n",
    "dev_name = \"run_all_sigma_v4_mapper_v3_en_2023-11-28-16-03-31\"\n",
    "dev_name = \"run_all_sigma_v4_again_en_2023-11-27-21-30-05\"\n",
    "dev_name = \"run_all_3sigma_v4_en_2023-11-11-17-37-38\"\n",
    "dev_path = f\"lm-evaluation-harness/results/{dev_name}/dev\"\n",
    "\n",
    "root, dirs, dev_files = next(os.walk(dev_path))\n",
    "\n",
    "results = {'acc': 0., 'acc_norm': 0.}\n",
    "for file in dev_files:\n",
    "    path = os.path.join(root, file)\n",
    "    with open(path, 'r') as f:\n",
    "        data = json.load(f)\n",
    "    res = data['results']\n",
    "    for k, v in res.items():\n",
    "        results['acc'] += v['acc' if 'acc' in v.keys() else 'rougeL']\n",
    "        results['acc_norm'] += v['acc_norm' if 'acc_norm' in v.keys() else 'rougeL']\n",
    "        \n",
    "print({k : v / len(dev_files) for k, v in results.items()})"
   ]
  },
  {
   "cell_type": "code",
   "execution_count": null,
   "metadata": {},
   "outputs": [],
   "source": [
    "import os, glob\n",
    "import json\n",
    "import numpy as np\n",
    "\n",
    "dev_name = \"run_all_3sigma_v4_en_2023-11-11-17-37-38\"\n",
    "# dev_name = \"run_unieval_dialog_from_v13_2_gt_0_8_en_2023-11-25-16-08-40\"\n",
    "# dev_name = \"run_unieval_dialog_gt_0_7_en_2023-11-23-16-42-45\"\n",
    "# dev_name = \"run_all_sigma_v13_3_en_2023-11-25-16-59-23\"\n",
    "dev_path = f\"lm-evaluation-harness/results/{dev_name}/stage2/detail\"\n",
    "\n",
    "root, dirs, stage2_files = next(os.walk(dev_path))\n",
    "\n",
    "samples = {'challenge_mc_ctx': [], 'challenge_mc': [], 'challenge_mc_long': [], 'challenge_mc_massive': [], 'challenge_qmsumm': [],'challenge_summ': []}\n",
    "for file in stage2_files:\n",
    "    path = os.path.join(root, file)\n",
    "    with open(path, 'r') as f:\n",
    "        data = json.load(f)\n",
    "    for d in data:\n",
    "        logits = []\n",
    "        for k in d.keys():\n",
    "            if k.startswith('logit'):\n",
    "                logits.append(d[k])\n",
    "        logits = np.array(logits)\n",
    "        max_idx = np.argmax(logits)\n",
    "        samples[d['task_name']].append(d['prompt_' + str(max_idx)])\n",
    "\n",
    "with open(f\"temp_data/{dev_name}_samples.json\", 'w') as f:\n",
    "    json.dump(samples, f)\n",
    "        \n",
    "                \n",
    "\n"
   ]
  },
  {
   "cell_type": "code",
   "execution_count": null,
   "metadata": {},
   "outputs": [],
   "source": [
    "import jsonlines\n",
    "\n",
    "data_path = \"checkpoints/run/run_all_3sigma_v4_en_2023-11-11-17-37-38/data/training_dataset.jsonl\"\n",
    "reader = jsonlines.open(data_path, 'r')\n",
    "\n",
    "with jsonlines.open(\"temp_data/training_dataset_v4.jsonl\", 'w') as writer:\n",
    "    for idx, line in enumerate(reader):\n",
    "        line['text'] = ''\n",
    "        writer.write(line)\n"
   ]
  },
  {
   "cell_type": "code",
   "execution_count": null,
   "metadata": {},
   "outputs": [],
   "source": [
    "from datasets import load_from_disk\n",
    "\n",
    "dataset = load_from_disk(\"data/challenge-data/board/challenge_mc_ctx\")"
   ]
  },
  {
   "cell_type": "code",
   "execution_count": null,
   "metadata": {},
   "outputs": [],
   "source": [
    "for item in dataset['test']:\n",
    "    print(item['endings'])\n",
    "    break"
   ]
  }
 ],
 "metadata": {
  "kernelspec": {
   "display_name": "dj_comp",
   "language": "python",
   "name": "python3"
  },
  "language_info": {
   "codemirror_mode": {
    "name": "ipython",
    "version": 3
   },
   "file_extension": ".py",
   "mimetype": "text/x-python",
   "name": "python",
   "nbconvert_exporter": "python",
   "pygments_lexer": "ipython3",
   "version": "3.10.13"
  }
 },
 "nbformat": 4,
 "nbformat_minor": 2
}
